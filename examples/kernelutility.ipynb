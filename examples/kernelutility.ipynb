{
 "cells": [
  {
   "cell_type": "markdown",
   "id": "2c6e0a40-9e4f-45e3-8c5f-7ca3a8f66921",
   "metadata": {},
   "source": [
    "# Test _kernelutility_\n",
    "\n",
    "> Joseph P. Vantassel, Texas Advanced Computing Center - The University of Texas at Austin\n",
    "\n",
    "This notebook includes example syntax used to test _kernelutility_ on the DesignSafe-Cyberinfrastructure's JupyterHub."
   ]
  },
  {
   "cell_type": "markdown",
   "id": "43023cac-4a74-4f24-8c9c-76c3cc866bf2",
   "metadata": {},
   "source": [
    "## Installation\n",
    "\n",
    "There are two approaches to installation:\n",
    "   \n",
    "- Install from `pypi` via `pip` (Recommended)\n",
    "- Install from `source` via `pip` (Not Recommened)\n"
   ]
  },
  {
   "cell_type": "markdown",
   "id": "093ebe50-142e-4e94-880d-9334c272ede0",
   "metadata": {},
   "source": [
    "### Install from `pypi` via `pip` (Recommended)"
   ]
  },
  {
   "cell_type": "code",
   "execution_count": null,
   "id": "40d156b6-3642-45f5-963c-4613a6c004d7",
   "metadata": {},
   "outputs": [],
   "source": [
    "!pip install kernelutility"
   ]
  },
  {
   "cell_type": "markdown",
   "id": "4bc9865e-9e29-449c-969d-6a0aa97c7713",
   "metadata": {},
   "source": [
    "### Install from `source` via `pip` (Not Recommended)"
   ]
  },
  {
   "cell_type": "code",
   "execution_count": null,
   "id": "8deb8cb7-d976-4fc1-a41b-efc510524b45",
   "metadata": {},
   "outputs": [],
   "source": [
    "!git clone https://github.com/jpvantassel/kernelutility.git kernelutility"
   ]
  },
  {
   "cell_type": "code",
   "execution_count": null,
   "id": "6076f2a1-2da3-444c-9235-051520a0053b",
   "metadata": {},
   "outputs": [],
   "source": [
    "%%bash\n",
    "cd kernelutility;\n",
    "git reset HEAD --hard;\n",
    "git pull"
   ]
  },
  {
   "cell_type": "code",
   "execution_count": null,
   "id": "9137e7b2-e195-4e41-9f7a-07bddd86dbd4",
   "metadata": {},
   "outputs": [],
   "source": [
    "%%bash\n",
    "cd kernelutility/;\n",
    "pip install -e .;\n",
    "echo \"kernel restart required\";"
   ]
  },
  {
   "cell_type": "markdown",
   "id": "b5cfdd64-ed6f-441c-8448-d63c4cb71a74",
   "metadata": {},
   "source": [
    "## Startup\n",
    "\n",
    "Importing `kernelset` from `kernelutility` provides an initialized `KernelSet` object.\n",
    "\n",
    "If the user has previously setup user-defined kernels those will be restored, if not a warning will be displayed."
   ]
  },
  {
   "cell_type": "code",
   "execution_count": null,
   "id": "27a3469a-31aa-4062-ac32-20d96c1eb76a",
   "metadata": {},
   "outputs": [],
   "source": [
    "from kernelutility import kernelset\n",
    "print(kernelset)"
   ]
  },
  {
   "cell_type": "markdown",
   "id": "22153d46-03ab-459c-b200-92819a7b2221",
   "metadata": {},
   "source": [
    "## Create, Add, Remove, and Destroy Kernels\n",
    "\n",
    "`create`, `add`, `remove`, and `destroy` allows users to use kernels developed by other users.\n",
    "\n",
    "`create` allows a user to create a new custom environment.\n",
    "\n",
    "`add` allows a user to add an existing kernel via a local copy.\n",
    "\n",
    "`remove` allows a user to remove a kernel that is no longer needed.\n",
    "\n",
    "`destroy` allows a user to remove a kernel and clean up the associate files."
   ]
  },
  {
   "cell_type": "code",
   "execution_count": null,
   "id": "46d19972-f8aa-4dc1-9ec9-0ac3a2de34d8",
   "metadata": {},
   "outputs": [],
   "source": [
    "kernelset.create(name=\"py39-test\", python_version=\"3.9\")\n",
    "print(kernelset)"
   ]
  },
  {
   "cell_type": "code",
   "execution_count": null,
   "id": "fe86dbaf-40cb-4d87-8611-61e2f5373d43",
   "metadata": {},
   "outputs": [],
   "source": [
    "kernelset.destroy(name=\"py39-test\")\n",
    "print(kernelset)"
   ]
  },
  {
   "cell_type": "code",
   "execution_count": null,
   "id": "34371ebd-a299-4f62-8d47-4807c8fa842d",
   "metadata": {},
   "outputs": [],
   "source": [
    "kernelset.add(path=\".some_other_users_kernel/other/\")\n",
    "print(kernelset)"
   ]
  },
  {
   "cell_type": "code",
   "execution_count": null,
   "id": "21c6758f-77d7-4e4a-ae8d-859f8a5b356d",
   "metadata": {},
   "outputs": [],
   "source": [
    "kernelset.remove(name=\"other\")\n",
    "print(kernelset)"
   ]
  },
  {
   "cell_type": "code",
   "execution_count": null,
   "id": "f84a1c15-c0e2-4456-83d0-2c2c615293f3",
   "metadata": {},
   "outputs": [],
   "source": [
    "kernelset.add(path=\".user_jupyter_kernels/other/\")\n",
    "print(kernelset)"
   ]
  },
  {
   "cell_type": "code",
   "execution_count": null,
   "id": "b36cbab0-4150-4c6c-8a8a-e947d329b5b3",
   "metadata": {},
   "outputs": [],
   "source": [
    "kernelset.destroy(name=\"other\")\n",
    "print(kernelset)"
   ]
  },
  {
   "cell_type": "code",
   "execution_count": null,
   "id": "608a0748-9813-4e28-81f0-389775586c24",
   "metadata": {},
   "outputs": [],
   "source": []
  }
 ],
 "metadata": {
  "IMAGE_NAME": "taccsciapps/ds-nb-img:base-0.1.0-rc.5",
  "REQUIREMENTS": [
   "pythonlib",
   "lib2"
  ],
  "UUID": "71780f41-98db-11ec-a43b-1798c61faa4a",
  "kernelspec": {
   "display_name": "Python 3 (ipykernel)",
   "language": "python",
   "name": "python3"
  },
  "language_info": {
   "codemirror_mode": {
    "name": "ipython",
    "version": 3
   },
   "file_extension": ".py",
   "mimetype": "text/x-python",
   "name": "python",
   "nbconvert_exporter": "python",
   "pygments_lexer": "ipython3",
   "version": "3.9.7"
  }
 },
 "nbformat": 4,
 "nbformat_minor": 5
}
